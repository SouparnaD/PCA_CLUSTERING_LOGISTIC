{
 "cells": [
  {
   "cell_type": "markdown",
   "metadata": {},
   "source": [
    "### 1 Question\n",
    "1. (70 points) Problem of anomaly detection: You are given the dataset of network user activity, and the task is to classify each user activity as normal or an attack. Attacks are also categorized as follows\n",
    "- Denial of Service (dos): Intruder tries to consume server resources as much as possible, so that normal users can’t get resources they need. - Remote to Local (r2l): Intruder has no legitimate access to victim machine but tries to gain access. - User to Root (u2r): Intruder has limited privilege access to victim machine but tries to get root privilege. - Probe: Intruder tries to gain some information about victim machine.\n",
    "\n",
    "Download dataset from here (http://researchweb.iiit.ac.in/~murtuza.bohra/intrusion_ detection.zip). Dataset contains 29 numerical features and ﬁve classes(one normal and four attacks).\n",
    "\n",
    "1. Part-1: (20 points) Do dimensionality reduction using PCA on given dataset. Keep the tolerance of 10% (knee method), meaning reconstruction of the original data from the reduced dimensions in PCA space can be done with 10% error. You are only allowed to use eigen decomposition or SVD function from python library(do not use library function to compute PCA directly).\n",
    "2. Part-2: (15 points) Use the reduced dimensions from the ﬁrst part and perform Kmeans clustering with k equal to ﬁve(number of classes in the data). Also calculate the purity of clusters with given class label. Purity is the fraction of actual class samples in that cluster. You are not allowed to use inbuilt function for K-means.\n",
    "3. Part-3 (15 points) Perform GMM (with ﬁve Gaussian) on the reduced dimensions from ﬁrst part and calculate the purity of clusters. You can use python library for GMM.\n",
    "4. Part-4: (15 points) Perform Hierarchical clustering with single-linkage and ﬁve clusters. Also calculate the purity of clusters. Create a pie chart comparing purity of diﬀerent clustering methods you have tried for all classes. You can use python library for hierarchical clustering.\n",
    "5. Part-5: (5 points) Original data of network user activity is available here(https: //www.kaggle.com/what0919/intrusion-detection). Original data also contains categorical feature. If you were to do dimensionality reduction on original data, could you use PCA? Justify. Write a paragraph in report for your explanation/justiﬁcation.\n",
    "\n",
    "### 2 Question\n",
    "2. (20 points) Question carry forwarded from assignment-2. Use the Admission dataset to perform the following task. Dataset can be downloaded from http://preon. iiit.ac.in/~sanjoy_chowdhury/AdmissionDataset.zip\n",
    "1. Part-1: (10 points) Implement logistic regression model to predict if the student will get admit.\n",
    "2. Part-2: (5 points) Compare the performances of logistic regression model with KNN model on the Admission dataset.\n",
    "3. Part-3: (5 points) Plot a graph explaining the co-relation between threshold value vs precision and recall. Report the criteria one should use while deciding the threshold value. Explain the reason behind your choice of threshold in your model.\n",
    "\n",
    "### 3 Question\n",
    "3. (10 points) Implement logistic regression using One vs All and One vs One approaches. Use the following dataset http://preon.iiit.ac.in/~sanjoy_chowdhury/wine-quality. zip for completing the task. Report your observations and accuracy of the model."
   ]
  },
  {
   "cell_type": "markdown",
   "metadata": {},
   "source": [
    "----------------------------------------------------------------------------------------------------------------------------"
   ]
  },
  {
   "cell_type": "markdown",
   "metadata": {},
   "source": [
    "#### Question 1\n",
    "##### Part-1"
   ]
  },
  {
   "cell_type": "code",
   "execution_count": 311,
   "metadata": {},
   "outputs": [
    {
     "name": "stdout",
     "output_type": "stream",
     "text": [
      "(24998, 30)\n"
     ]
    },
    {
     "data": {
      "text/html": [
       "<div>\n",
       "<style scoped>\n",
       "    .dataframe tbody tr th:only-of-type {\n",
       "        vertical-align: middle;\n",
       "    }\n",
       "\n",
       "    .dataframe tbody tr th {\n",
       "        vertical-align: top;\n",
       "    }\n",
       "\n",
       "    .dataframe thead th {\n",
       "        text-align: right;\n",
       "    }\n",
       "</style>\n",
       "<table border=\"1\" class=\"dataframe\">\n",
       "  <thead>\n",
       "    <tr style=\"text-align: right;\">\n",
       "      <th></th>\n",
       "      <th>duration</th>\n",
       "      <th>service</th>\n",
       "      <th>src_bytes</th>\n",
       "      <th>dst_bytes</th>\n",
       "      <th>hot</th>\n",
       "      <th>num_failed_logins</th>\n",
       "      <th>num_compromised</th>\n",
       "      <th>num_root</th>\n",
       "      <th>num_file_creations</th>\n",
       "      <th>num_access_files</th>\n",
       "      <th>...</th>\n",
       "      <th>dst_host_srv_count</th>\n",
       "      <th>dst_host_same_srv_rate</th>\n",
       "      <th>dst_host_diff_srv_rate</th>\n",
       "      <th>dst_host_same_src_port_rate</th>\n",
       "      <th>dst_host_srv_diff_host_rate</th>\n",
       "      <th>dst_host_serror_rate</th>\n",
       "      <th>dst_host_srv_serror_rate</th>\n",
       "      <th>dst_host_rerror_rate</th>\n",
       "      <th>dst_host_srv_rerror_rate</th>\n",
       "      <th>xAttack</th>\n",
       "    </tr>\n",
       "  </thead>\n",
       "  <tbody>\n",
       "    <tr>\n",
       "      <th>0</th>\n",
       "      <td>0</td>\n",
       "      <td>25</td>\n",
       "      <td>193</td>\n",
       "      <td>441</td>\n",
       "      <td>0</td>\n",
       "      <td>0</td>\n",
       "      <td>0</td>\n",
       "      <td>0</td>\n",
       "      <td>0</td>\n",
       "      <td>0</td>\n",
       "      <td>...</td>\n",
       "      <td>255</td>\n",
       "      <td>1.00</td>\n",
       "      <td>0.00</td>\n",
       "      <td>0.07</td>\n",
       "      <td>0.04</td>\n",
       "      <td>0.00</td>\n",
       "      <td>0.04</td>\n",
       "      <td>0.0</td>\n",
       "      <td>0.0</td>\n",
       "      <td>normal</td>\n",
       "    </tr>\n",
       "    <tr>\n",
       "      <th>1</th>\n",
       "      <td>0</td>\n",
       "      <td>38</td>\n",
       "      <td>0</td>\n",
       "      <td>0</td>\n",
       "      <td>0</td>\n",
       "      <td>0</td>\n",
       "      <td>0</td>\n",
       "      <td>0</td>\n",
       "      <td>0</td>\n",
       "      <td>0</td>\n",
       "      <td>...</td>\n",
       "      <td>1</td>\n",
       "      <td>0.00</td>\n",
       "      <td>0.07</td>\n",
       "      <td>0.00</td>\n",
       "      <td>0.00</td>\n",
       "      <td>0.00</td>\n",
       "      <td>0.00</td>\n",
       "      <td>1.0</td>\n",
       "      <td>1.0</td>\n",
       "      <td>dos</td>\n",
       "    </tr>\n",
       "    <tr>\n",
       "      <th>2</th>\n",
       "      <td>0</td>\n",
       "      <td>25</td>\n",
       "      <td>167</td>\n",
       "      <td>9724</td>\n",
       "      <td>0</td>\n",
       "      <td>0</td>\n",
       "      <td>0</td>\n",
       "      <td>0</td>\n",
       "      <td>0</td>\n",
       "      <td>0</td>\n",
       "      <td>...</td>\n",
       "      <td>255</td>\n",
       "      <td>1.00</td>\n",
       "      <td>0.00</td>\n",
       "      <td>0.03</td>\n",
       "      <td>0.06</td>\n",
       "      <td>0.00</td>\n",
       "      <td>0.00</td>\n",
       "      <td>0.0</td>\n",
       "      <td>0.0</td>\n",
       "      <td>normal</td>\n",
       "    </tr>\n",
       "    <tr>\n",
       "      <th>3</th>\n",
       "      <td>0</td>\n",
       "      <td>20</td>\n",
       "      <td>1339</td>\n",
       "      <td>0</td>\n",
       "      <td>0</td>\n",
       "      <td>0</td>\n",
       "      <td>0</td>\n",
       "      <td>0</td>\n",
       "      <td>0</td>\n",
       "      <td>0</td>\n",
       "      <td>...</td>\n",
       "      <td>31</td>\n",
       "      <td>0.23</td>\n",
       "      <td>0.04</td>\n",
       "      <td>0.23</td>\n",
       "      <td>0.00</td>\n",
       "      <td>0.02</td>\n",
       "      <td>0.00</td>\n",
       "      <td>0.0</td>\n",
       "      <td>0.0</td>\n",
       "      <td>normal</td>\n",
       "    </tr>\n",
       "    <tr>\n",
       "      <th>4</th>\n",
       "      <td>0</td>\n",
       "      <td>37</td>\n",
       "      <td>0</td>\n",
       "      <td>0</td>\n",
       "      <td>0</td>\n",
       "      <td>0</td>\n",
       "      <td>0</td>\n",
       "      <td>0</td>\n",
       "      <td>0</td>\n",
       "      <td>0</td>\n",
       "      <td>...</td>\n",
       "      <td>25</td>\n",
       "      <td>0.10</td>\n",
       "      <td>0.05</td>\n",
       "      <td>0.00</td>\n",
       "      <td>0.00</td>\n",
       "      <td>1.00</td>\n",
       "      <td>1.00</td>\n",
       "      <td>0.0</td>\n",
       "      <td>0.0</td>\n",
       "      <td>dos</td>\n",
       "    </tr>\n",
       "  </tbody>\n",
       "</table>\n",
       "<p>5 rows × 30 columns</p>\n",
       "</div>"
      ],
      "text/plain": [
       "   duration  service  src_bytes  dst_bytes  hot  num_failed_logins  \\\n",
       "0         0       25        193        441    0                  0   \n",
       "1         0       38          0          0    0                  0   \n",
       "2         0       25        167       9724    0                  0   \n",
       "3         0       20       1339          0    0                  0   \n",
       "4         0       37          0          0    0                  0   \n",
       "\n",
       "   num_compromised  num_root  num_file_creations  num_access_files   ...     \\\n",
       "0                0         0                   0                 0   ...      \n",
       "1                0         0                   0                 0   ...      \n",
       "2                0         0                   0                 0   ...      \n",
       "3                0         0                   0                 0   ...      \n",
       "4                0         0                   0                 0   ...      \n",
       "\n",
       "   dst_host_srv_count  dst_host_same_srv_rate  dst_host_diff_srv_rate  \\\n",
       "0                 255                    1.00                    0.00   \n",
       "1                   1                    0.00                    0.07   \n",
       "2                 255                    1.00                    0.00   \n",
       "3                  31                    0.23                    0.04   \n",
       "4                  25                    0.10                    0.05   \n",
       "\n",
       "   dst_host_same_src_port_rate  dst_host_srv_diff_host_rate  \\\n",
       "0                         0.07                         0.04   \n",
       "1                         0.00                         0.00   \n",
       "2                         0.03                         0.06   \n",
       "3                         0.23                         0.00   \n",
       "4                         0.00                         0.00   \n",
       "\n",
       "   dst_host_serror_rate  dst_host_srv_serror_rate  dst_host_rerror_rate  \\\n",
       "0                  0.00                      0.04                   0.0   \n",
       "1                  0.00                      0.00                   1.0   \n",
       "2                  0.00                      0.00                   0.0   \n",
       "3                  0.02                      0.00                   0.0   \n",
       "4                  1.00                      1.00                   0.0   \n",
       "\n",
       "   dst_host_srv_rerror_rate  xAttack  \n",
       "0                       0.0   normal  \n",
       "1                       1.0      dos  \n",
       "2                       0.0   normal  \n",
       "3                       0.0   normal  \n",
       "4                       0.0      dos  \n",
       "\n",
       "[5 rows x 30 columns]"
      ]
     },
     "execution_count": 311,
     "metadata": {},
     "output_type": "execute_result"
    }
   ],
   "source": [
    "import pandas as pd\n",
    "df_anomaly = pd.read_csv(\"intrusion_detection/data.csv\")\n",
    "\n",
    "print(df_anomaly.shape)\n",
    "df_anomaly.head()"
   ]
  },
  {
   "cell_type": "markdown",
   "metadata": {},
   "source": [
    "In the dataset there 29 features and 5 classes"
   ]
  },
  {
   "cell_type": "code",
   "execution_count": 312,
   "metadata": {},
   "outputs": [
    {
     "data": {
      "text/plain": [
       "(24998, 29)"
      ]
     },
     "execution_count": 312,
     "metadata": {},
     "output_type": "execute_result"
    }
   ],
   "source": [
    "label = df_anomaly[\"xAttack\"]\n",
    "df_anomaly = df_anomaly.iloc[:,df_anomaly.columns != \"xAttack\"]\n",
    "df_anomaly.shape"
   ]
  },
  {
   "cell_type": "code",
   "execution_count": 313,
   "metadata": {},
   "outputs": [
    {
     "name": "stdout",
     "output_type": "stream",
     "text": [
      "(29, 29)\n"
     ]
    },
    {
     "name": "stderr",
     "output_type": "stream",
     "text": [
      "C:\\Users\\USER\\Anaconda3\\lib\\site-packages\\sklearn\\preprocessing\\data.py:625: DataConversionWarning: Data with input dtype int64, float64 were all converted to float64 by StandardScaler.\n",
      "  return self.partial_fit(X, y)\n",
      "C:\\Users\\USER\\Anaconda3\\lib\\site-packages\\sklearn\\base.py:462: DataConversionWarning: Data with input dtype int64, float64 were all converted to float64 by StandardScaler.\n",
      "  return self.fit(X, **fit_params).transform(X)\n"
     ]
    }
   ],
   "source": [
    "from sklearn.preprocessing import StandardScaler\n",
    "import numpy as np\n",
    "standardized_data = StandardScaler().fit_transform(df_anomaly)\n",
    "covariance_matrix = np.cov(standardized_data.T)\n",
    "print(covariance_matrix.shape)"
   ]
  },
  {
   "cell_type": "code",
   "execution_count": 314,
   "metadata": {},
   "outputs": [
    {
     "name": "stdout",
     "output_type": "stream",
     "text": [
      "eigen vectors shape: (29, 29)\n",
      "eigen values: [6.73792010e+00 4.86394323e+00 2.61304344e+00 1.88825019e+00\n",
      " 1.47239103e+00 1.34445489e+00 1.13686784e+00 1.05599217e+00\n",
      " 9.19031673e-01 9.62884727e-01 9.97747022e-01 1.00605989e+00\n",
      " 7.16997425e-01 6.55723024e-01 4.96856883e-01 4.47530656e-01\n",
      " 4.12119820e-01 4.02113812e-01 3.45219725e-01 2.10204295e-01\n",
      " 9.70901692e-02 6.64827642e-02 5.21876041e-02 3.96458945e-02\n",
      " 2.89025639e-02 1.63697530e-02 1.00407728e-03 9.49076867e-03\n",
      " 4.63468452e-03]\n"
     ]
    }
   ],
   "source": [
    "eig_values, eig_vectors = np.linalg.eig(covariance_matrix)\n",
    "print(\"eigen vectors shape:\",eig_vectors.shape)\n",
    "print(\"eigen values:\",eig_values)"
   ]
  },
  {
   "cell_type": "markdown",
   "metadata": {},
   "source": [
    "###### to keep the tolerance upto 10%, we need eigen vectors corresponding to top k eigen values so that the sum(k eigen values)/sum(all eigen values) >0.9 "
   ]
  },
  {
   "cell_type": "code",
   "execution_count": 315,
   "metadata": {},
   "outputs": [],
   "source": [
    "part_sum=0\n",
    "for k in range(len(eig_values)):\n",
    "    part_sum+=eig_values[k]\n",
    "    if part_sum/np.sum(eig_values) >= 0.9:\n",
    "        break\n",
    "k_eig_vecs = eig_vectors[:,0:k+1]"
   ]
  },
  {
   "cell_type": "code",
   "execution_count": 316,
   "metadata": {},
   "outputs": [
    {
     "name": "stdout",
     "output_type": "stream",
     "text": [
      "shape of new_data is: (24998, 14)\n"
     ]
    }
   ],
   "source": [
    "new_data = np.matmul(standardized_data,k_eig_vecs)\n",
    "print(\"shape of new_data is:\",new_data.shape)"
   ]
  },
  {
   "cell_type": "markdown",
   "metadata": {},
   "source": [
    "Dimension is reduced to 14 from 29 using PCA and 90 percent information is stored"
   ]
  },
  {
   "cell_type": "code",
   "execution_count": 317,
   "metadata": {},
   "outputs": [
    {
     "data": {
      "image/png": "[encoded data removed]",
      "text/plain": [
       "<Figure size 1080x504 with 1 Axes>"
      ]
     },
     "metadata": {},
     "output_type": "display_data"
    }
   ],
   "source": [
    "tolerance=[]\n",
    "dimensions=[]\n",
    "part_sum=0\n",
    "for i in range(len(eig_values)):\n",
    "    part_sum+=eig_values[i]\n",
    "    tolerance.append((1-float(part_sum)/float(np.sum(eig_values)))*100)\n",
    "    dimensions.append(i+1)\n",
    "import matplotlib.pyplot as plt\n",
    "from matplotlib.ticker import StrMethodFormatter\n",
    "%matplotlib inline\n",
    "# plt.gca().yaxis.set_major_formatter(StrMethodFormatter('{x:,.0f}')) # No decimal places\n",
    "plt.rcParams['figure.figsize'] = [15, 7]\n",
    "\n",
    "plt.xticks(np.arange(min(dimensions), max(dimensions)+1, 1.0))\n",
    "\n",
    "plt.xlabel(\"dimensions\")\n",
    "plt.ylabel(\"tolerance percentage\")\n",
    "\n",
    "plt.plot(dimensions,tolerance)\n",
    "plt.scatter(dimensions,tolerance)\n",
    "plt.show()\n"
   ]
  },
  {
   "cell_type": "markdown",
   "metadata": {},
   "source": [
    "##### Part-2"
   ]
  },
  {
   "cell_type": "markdown",
   "metadata": {},
   "source": [
    "##### Using K-means clustering"
   ]
  },
  {
   "cell_type": "code",
   "execution_count": 318,
   "metadata": {},
   "outputs": [],
   "source": [
    "def find_clusters(new_data,clusters):\n",
    "    current_clusters = []\n",
    "    for rows in new_data:\n",
    "        dist=[]\n",
    "        for i in clusters:\n",
    "            dist.append(np.sum((rows-i)**2))\n",
    "        current_clusters.append(dist.index(min(dist)))\n",
    "    return current_clusters\n",
    "def k_means(new_data,k):\n",
    "    shape = new_data.shape\n",
    "    clusters = np.random.rand(k,shape[1])       #initialise 5 random cluster centres\n",
    "    cluster_label= find_clusters(new_data,clusters)\n",
    "    new_cluster_label=[]\n",
    "    while(1):    \n",
    "        for cluster in range(len(clusters)):\n",
    "            indices = [i for i in range(len(cluster_label)) if cluster_label[i]== cluster]\n",
    "            clustered_points = new_data[np.array(indices)]\n",
    "            clusters[cluster]=np.mean(clustered_points,axis=0)     #update new cluster centres\n",
    "        new_cluster_label = find_clusters(new_data,clusters)\n",
    "        if(new_cluster_label == cluster_label):\n",
    "            break\n",
    "        else:\n",
    "            cluster_label = new_cluster_label\n",
    "    return new_cluster_label\n"
   ]
  },
  {
   "cell_type": "code",
   "execution_count": 319,
   "metadata": {},
   "outputs": [],
   "source": [
    "# training K-means\n",
    "c_labels = k_means(new_data,5)"
   ]
  },
  {
   "cell_type": "code",
   "execution_count": 320,
   "metadata": {},
   "outputs": [
    {
     "data": {
      "text/plain": [
       "{2: 'normal', 0: 'dos', 1: 'dos', 4: 'dos', 3: 'probe'}"
      ]
     },
     "execution_count": 320,
     "metadata": {},
     "output_type": "execute_result"
    }
   ],
   "source": [
    "mapping=dict(zip(c_labels,label))\n",
    "mapping"
   ]
  },
  {
   "cell_type": "code",
   "execution_count": 321,
   "metadata": {},
   "outputs": [],
   "source": [
    "from sklearn.preprocessing import LabelEncoder\n",
    "le = LabelEncoder()\n",
    "encoded_label=le.fit_transform(label)"
   ]
  },
  {
   "cell_type": "code",
   "execution_count": 322,
   "metadata": {},
   "outputs": [],
   "source": [
    "def compute_purity(c_labels,new_label):\n",
    "    confusion_matrix =  np.zeros((5,5))\n",
    "    confusion_matrix  =  confusion_matrix.astype(int)\n",
    "    for i  in range(len(c_labels)):\n",
    "        x = c_labels[i]\n",
    "        confusion_matrix[x, new_label[i]] += 1\n",
    "    \n",
    "    temp = np.amax(confusion_matrix,  axis = 1)\n",
    "    purity_level = np.sum(temp)/np.sum(confusion_matrix)\n",
    "    return confusion_matrix,purity_level"
   ]
  },
  {
   "cell_type": "code",
   "execution_count": 324,
   "metadata": {},
   "outputs": [
    {
     "name": "stdout",
     "output_type": "stream",
     "text": [
      "[[ 1364   534  1057    10     0]\n",
      " [ 4266    29    71     0     0]\n",
      " [  921 12565   357    62    10]\n",
      " [   18   225   821   125     0]\n",
      " [ 2545    11     7     0     0]]\n",
      "0.8625090007200577\n"
     ]
    }
   ],
   "source": [
    "confusion_matrix , purity =compute_purity(c_labels,encoded_label)\n",
    "print(confusion_matrix)\n",
    "print(purity)"
   ]
  },
  {
   "cell_type": "markdown",
   "metadata": {},
   "source": [
    "#### Part-3"
   ]
  },
  {
   "cell_type": "markdown",
   "metadata": {},
   "source": [
    "Appying GMM"
   ]
  },
  {
   "cell_type": "code",
   "execution_count": 325,
   "metadata": {},
   "outputs": [
    {
     "data": {
      "text/plain": [
       "GaussianMixture(covariance_type='full', init_params='kmeans', max_iter=100,\n",
       "        means_init=None, n_components=5, n_init=1, precisions_init=None,\n",
       "        random_state=None, reg_covar=1e-06, tol=0.001, verbose=0,\n",
       "        verbose_interval=10, warm_start=False, weights_init=None)"
      ]
     },
     "execution_count": 325,
     "metadata": {},
     "output_type": "execute_result"
    }
   ],
   "source": [
    "from sklearn.mixture import GaussianMixture\n",
    "GMM = GaussianMixture(n_components = 5)\n",
    "GMM.fit(new_data)"
   ]
  },
  {
   "cell_type": "code",
   "execution_count": 326,
   "metadata": {},
   "outputs": [],
   "source": [
    "gmm_labels=GMM.predict(new_data)"
   ]
  },
  {
   "cell_type": "code",
   "execution_count": 327,
   "metadata": {},
   "outputs": [
    {
     "name": "stdout",
     "output_type": "stream",
     "text": [
      "purity of GMM:\n",
      "[[ 6184     0     0     0     0]\n",
      " [  458   639   810    72     5]\n",
      " [ 2398 11972  1169    97     3]\n",
      " [   74   750   333    28     2]\n",
      " [    0     3     1     0     0]]\n",
      "0.7888231058484679\n"
     ]
    }
   ],
   "source": [
    "print(\"purity of GMM:\")\n",
    "confusion_matrix,purity = compute_purity(gmm_labels,encoded_label)\n",
    "print(confusion_matrix)\n",
    "print(purity)\n"
   ]
  },
  {
   "cell_type": "markdown",
   "metadata": {},
   "source": [
    "#### Part-4"
   ]
  },
  {
   "cell_type": "markdown",
   "metadata": {},
   "source": [
    "Hierachial Clustering"
   ]
  },
  {
   "cell_type": "code",
   "execution_count": 328,
   "metadata": {},
   "outputs": [],
   "source": [
    "from sklearn.cluster import AgglomerativeClustering\n",
    "hierarch = AgglomerativeClustering(linkage=\"single\",n_clusters=5)\n",
    "hierarch_lables = hierarch.fit_predict(new_data)"
   ]
  },
  {
   "cell_type": "code",
   "execution_count": 329,
   "metadata": {},
   "outputs": [
    {
     "name": "stdout",
     "output_type": "stream",
     "text": [
      "purity of clusters:\n"
     ]
    },
    {
     "data": {
      "text/plain": [
       "(array([[ 9114, 13360,  2312,   193,    10],\n",
       "        [    0,     0,     1,     0,     0],\n",
       "        [    0,     2,     0,     4,     0],\n",
       "        [    0,     1,     0,     0,     0],\n",
       "        [    0,     1,     0,     0,     0]]), 0.5347227778222258)"
      ]
     },
     "execution_count": 329,
     "metadata": {},
     "output_type": "execute_result"
    }
   ],
   "source": [
    "print(\"purity of clusters:\")\n",
    "confusion_matrix ,purity=compute_purity(hierarch_lables,encoded_label)"
   ]
  },
  {
   "cell_type": "code",
   "execution_count": 330,
   "metadata": {},
   "outputs": [],
   "source": [
    "hierarch = AgglomerativeClustering(n_clusters=5)\n",
    "hierarch_lables = hierarch.fit_predict(new_data)"
   ]
  },
  {
   "cell_type": "code",
   "execution_count": 331,
   "metadata": {},
   "outputs": [
    {
     "name": "stdout",
     "output_type": "stream",
     "text": [
      "purity using ward linkage:\n",
      "[[  941 12724   481   197    10]\n",
      " [ 6805    20    29     0     0]\n",
      " [ 1368   578  1052     0     0]\n",
      " [    0     8     0     0     0]\n",
      " [    0    34   751     0     0]]\n",
      "0.8663093047443795\n"
     ]
    }
   ],
   "source": [
    "print(\"purity using ward linkage:\")\n",
    "confusion_matrix,purity = compute_purity(hierarch_lables,encoded_label)\n",
    "print(confusion_matrix)\n",
    "print(purity)"
   ]
  },
  {
   "cell_type": "markdown",
   "metadata": {},
   "source": [
    "Purity of clusters are better using \"ward\" linkage.\n",
    "\n",
    ">ward minimizes the variance of the clusters being merged.\n",
    "\n",
    ">average uses the average of the distances of each observation of the two sets.\n",
    "\n",
    ">complete or maximum linkage uses the maximum distances between all observations of the two sets.\n",
    "\n",
    ">single uses the minimum of the distances between all observations of the two sets."
   ]
  },
  {
   "cell_type": "code",
   "execution_count": 339,
   "metadata": {},
   "outputs": [
    {
     "name": "stdout",
     "output_type": "stream",
     "text": [
      "12724\n",
      "6805\n",
      "1368\n",
      "8\n",
      "751\n"
     ]
    }
   ],
   "source": [
    "for i in confusion_matrix:\n",
    "    print(np.max(i))\n",
    "    "
   ]
  },
  {
   "cell_type": "code",
   "execution_count": 373,
   "metadata": {},
   "outputs": [],
   "source": [
    "kmeans_labels = k_means(new_data,5)\n",
    "GMM = GaussianMixture(n_components = 5)\n",
    "GMM.fit(new_data)\n",
    "gmm_labels = GMM.predict(new_data)\n",
    "hierarch = AgglomerativeClustering(n_clusters=5)\n",
    "hierarch_lables = hierarch.fit_predict(new_data)\n",
    "conf_mat_kmeans,purity = compute_purity(kmeans_labels,encoded_label)\n",
    "conf_mat_gmm,purity = compute_purity(gmm_labels,encoded_label)\n",
    "conf_mat_hier,purity = compute_purity(hierarch_lables,encoded_label)\n",
    "\n",
    "\n",
    "\n",
    "\n",
    "    "
   ]
  },
  {
   "cell_type": "code",
   "execution_count": 374,
   "metadata": {},
   "outputs": [],
   "source": [
    "purity_kmeans=[]\n",
    "purity_gmm=[]\n",
    "purity_hier=[]\n",
    "for i in conf_mat_kmeans:\n",
    "    num=np.max(i)\n",
    "    den=np.sum(i)\n",
    "    purity_kmeans.append(num/den)\n",
    "    \n",
    "\n",
    "for i in conf_mat_gmm:\n",
    "    num=np.max(i)\n",
    "    den=np.sum(i)\n",
    "    purity_gmm.append(num/den)\n",
    "for i in conf_mat_hier:\n",
    "    num=np.max(i)\n",
    "    den=np.sum(i)\n",
    "    purity_hier.append(num/den)"
   ]
  },
  {
   "cell_type": "code",
   "execution_count": 380,
   "metadata": {
    "scrolled": true
   },
   "outputs": [
    {
     "data": {
      "image/png": "[encoded data removed]",
      "text/plain": [
       "<Figure size 864x576 with 1 Axes>"
      ]
     },
     "metadata": {},
     "output_type": "display_data"
    }
   ],
   "source": [
    "import matplotlib.pyplot as plt\n",
    "x  = np.arange(5)\n",
    "plt.figure(figsize=(12,8))\n",
    "\n",
    "plt.bar(x+0.00,purity_kmeans ,color='b',width=0.20)\n",
    "plt.bar(x+0.15, purity_gmm,color='g',width=0.20)\n",
    "plt.bar(x+0.30, purity_hier,color='r',width=0.20)\n",
    "plt.legend(['k-means','GMM','Hierarchical'],loc='best')\n",
    "plt.xlabel(\"cluster number\")\n",
    "plt.ylabel(\"cluster purity\")\n",
    "\n",
    "plt.show()"
   ]
  },
  {
   "cell_type": "markdown",
   "metadata": {},
   "source": [
    "#### Part-5"
   ]
  },
  {
   "cell_type": "markdown",
   "metadata": {},
   "source": [
    "                                        PCA if features are categorical"
   ]
  },
  {
   "cell_type": "markdown",
   "metadata": {},
   "source": [
    "PCA doesn't works well with categorical data as the data should be standardize before we do PCA, in case of categorical data standardization is not meaning full because in numerical data the mean and variance matters.\n",
    "Instead we use MCA(Multiple Correspondence Analysis) is used while we have categorical features.\n",
    "In statistics, multiple correspondence analysis (MCA) is a data analysis technique for nominal categorical data, used to detect and represent underlying structures in a data set. It does this by representing data as points in a low-dimensional Euclidean space. The procedure thus appears to be the counterpart of principal component analysis for categorical data.MCA can be viewed as an extension of simple correspondence analysis (CA) in that it is applicable to a large set of categorical variables."
   ]
  },
  {
   "cell_type": "markdown",
   "metadata": {},
   "source": [
    "## Question 2\n"
   ]
  },
  {
   "cell_type": "markdown",
   "metadata": {},
   "source": [
    "##### Part-1"
   ]
  },
  {
   "cell_type": "markdown",
   "metadata": {},
   "source": [
    "    Implementation of LOGISTIC REGRESSION from scratch"
   ]
  },
  {
   "cell_type": "code",
   "execution_count": 188,
   "metadata": {},
   "outputs": [],
   "source": [
    "def sigmoid(x):\n",
    "    return 1/(1+np.exp(-x))\n",
    "def loss(h,y):\n",
    "    return (-y*np.log(h)-(1-y)*np.log(1-h)).mean()\n",
    "def add_intercept(X):\n",
    "    intercept = np.ones((X.shape[0],1))\n",
    "    return np.concatenate((intercept,X),axis=1)\n",
    "def round_off(X,th):\n",
    "    X = X.where(X>=th,0)\n",
    "    X = X.where(X<th,1)\n",
    "    return X\n",
    "def LogisticRegressionClassifier(X_train,Y_train,lr=0.1,num_iter = 10000,th = 0.5,Y_train_prob = False):\n",
    "    X_train = add_intercept(X_train)\n",
    "    if Y_train_prob == True:\n",
    "        Y_train = round_off(Y_train,th)\n",
    "    W = [0]* X_train.shape[1]          # initialise the weight vector\n",
    "    for i in range(num_iter):\n",
    "        Z = np.dot(X_train,W)\n",
    "        H = sigmoid(Z)\n",
    "        grad = np.dot(X_train.T,(H-Y_train))/Y_train.size\n",
    "        W = W - lr*grad\n",
    "    return W\n",
    "def predict_proba(W,X_test):\n",
    "    X_test = add_intercept(X_test)\n",
    "    return sigmoid(np.dot(X_test,W))\n",
    "def predict(W,X_test,th):\n",
    "    predictions = predict_proba(W,X_test)>=th\n",
    "    return predictions.astype(int)\n"
   ]
  },
  {
   "cell_type": "markdown",
   "metadata": {},
   "source": [
    "    LOADING THE DATASET"
   ]
  },
  {
   "cell_type": "code",
   "execution_count": 189,
   "metadata": {},
   "outputs": [
    {
     "data": {
      "text/html": [
       "<div>\n",
       "<style scoped>\n",
       "    .dataframe tbody tr th:only-of-type {\n",
       "        vertical-align: middle;\n",
       "    }\n",
       "\n",
       "    .dataframe tbody tr th {\n",
       "        vertical-align: top;\n",
       "    }\n",
       "\n",
       "    .dataframe thead th {\n",
       "        text-align: right;\n",
       "    }\n",
       "</style>\n",
       "<table border=\"1\" class=\"dataframe\">\n",
       "  <thead>\n",
       "    <tr style=\"text-align: right;\">\n",
       "      <th></th>\n",
       "      <th>Serial No.</th>\n",
       "      <th>GRE Score</th>\n",
       "      <th>TOEFL Score</th>\n",
       "      <th>University Rating</th>\n",
       "      <th>SOP</th>\n",
       "      <th>LOR</th>\n",
       "      <th>CGPA</th>\n",
       "      <th>Research</th>\n",
       "      <th>Chance of Admit</th>\n",
       "    </tr>\n",
       "  </thead>\n",
       "  <tbody>\n",
       "    <tr>\n",
       "      <th>0</th>\n",
       "      <td>242</td>\n",
       "      <td>317</td>\n",
       "      <td>103</td>\n",
       "      <td>2</td>\n",
       "      <td>2.5</td>\n",
       "      <td>2.0</td>\n",
       "      <td>8.15</td>\n",
       "      <td>0</td>\n",
       "      <td>0.65</td>\n",
       "    </tr>\n",
       "    <tr>\n",
       "      <th>1</th>\n",
       "      <td>334</td>\n",
       "      <td>319</td>\n",
       "      <td>108</td>\n",
       "      <td>3</td>\n",
       "      <td>3.0</td>\n",
       "      <td>3.5</td>\n",
       "      <td>8.54</td>\n",
       "      <td>1</td>\n",
       "      <td>0.71</td>\n",
       "    </tr>\n",
       "    <tr>\n",
       "      <th>2</th>\n",
       "      <td>4</td>\n",
       "      <td>322</td>\n",
       "      <td>110</td>\n",
       "      <td>3</td>\n",
       "      <td>3.5</td>\n",
       "      <td>2.5</td>\n",
       "      <td>8.67</td>\n",
       "      <td>1</td>\n",
       "      <td>0.80</td>\n",
       "    </tr>\n",
       "    <tr>\n",
       "      <th>3</th>\n",
       "      <td>45</td>\n",
       "      <td>326</td>\n",
       "      <td>113</td>\n",
       "      <td>5</td>\n",
       "      <td>4.5</td>\n",
       "      <td>4.0</td>\n",
       "      <td>9.40</td>\n",
       "      <td>1</td>\n",
       "      <td>0.91</td>\n",
       "    </tr>\n",
       "    <tr>\n",
       "      <th>4</th>\n",
       "      <td>232</td>\n",
       "      <td>319</td>\n",
       "      <td>106</td>\n",
       "      <td>3</td>\n",
       "      <td>3.5</td>\n",
       "      <td>2.5</td>\n",
       "      <td>8.33</td>\n",
       "      <td>1</td>\n",
       "      <td>0.74</td>\n",
       "    </tr>\n",
       "  </tbody>\n",
       "</table>\n",
       "</div>"
      ],
      "text/plain": [
       "   Serial No.  GRE Score  TOEFL Score  University Rating  SOP  LOR   CGPA  \\\n",
       "0         242        317          103                  2  2.5   2.0  8.15   \n",
       "1         334        319          108                  3  3.0   3.5  8.54   \n",
       "2           4        322          110                  3  3.5   2.5  8.67   \n",
       "3          45        326          113                  5  4.5   4.0  9.40   \n",
       "4         232        319          106                  3  3.5   2.5  8.33   \n",
       "\n",
       "   Research  Chance of Admit   \n",
       "0         0              0.65  \n",
       "1         1              0.71  \n",
       "2         1              0.80  \n",
       "3         1              0.91  \n",
       "4         1              0.74  "
      ]
     },
     "execution_count": 189,
     "metadata": {},
     "output_type": "execute_result"
    }
   ],
   "source": [
    "df_admission = pd.read_csv(\"AdmissionDataset/data.csv\")\n",
    "df_admission.head()"
   ]
  },
  {
   "cell_type": "code",
   "execution_count": 190,
   "metadata": {
    "scrolled": true
   },
   "outputs": [
    {
     "data": {
      "text/html": [
       "<div>\n",
       "<style scoped>\n",
       "    .dataframe tbody tr th:only-of-type {\n",
       "        vertical-align: middle;\n",
       "    }\n",
       "\n",
       "    .dataframe tbody tr th {\n",
       "        vertical-align: top;\n",
       "    }\n",
       "\n",
       "    .dataframe thead th {\n",
       "        text-align: right;\n",
       "    }\n",
       "</style>\n",
       "<table border=\"1\" class=\"dataframe\">\n",
       "  <thead>\n",
       "    <tr style=\"text-align: right;\">\n",
       "      <th></th>\n",
       "      <th>GRE Score</th>\n",
       "      <th>TOEFL Score</th>\n",
       "      <th>University Rating</th>\n",
       "      <th>SOP</th>\n",
       "      <th>LOR</th>\n",
       "      <th>CGPA</th>\n",
       "      <th>Research</th>\n",
       "    </tr>\n",
       "  </thead>\n",
       "  <tbody>\n",
       "    <tr>\n",
       "      <th>0</th>\n",
       "      <td>317</td>\n",
       "      <td>103</td>\n",
       "      <td>2</td>\n",
       "      <td>2.5</td>\n",
       "      <td>2.0</td>\n",
       "      <td>8.15</td>\n",
       "      <td>0</td>\n",
       "    </tr>\n",
       "    <tr>\n",
       "      <th>1</th>\n",
       "      <td>319</td>\n",
       "      <td>108</td>\n",
       "      <td>3</td>\n",
       "      <td>3.0</td>\n",
       "      <td>3.5</td>\n",
       "      <td>8.54</td>\n",
       "      <td>1</td>\n",
       "    </tr>\n",
       "    <tr>\n",
       "      <th>2</th>\n",
       "      <td>322</td>\n",
       "      <td>110</td>\n",
       "      <td>3</td>\n",
       "      <td>3.5</td>\n",
       "      <td>2.5</td>\n",
       "      <td>8.67</td>\n",
       "      <td>1</td>\n",
       "    </tr>\n",
       "    <tr>\n",
       "      <th>3</th>\n",
       "      <td>326</td>\n",
       "      <td>113</td>\n",
       "      <td>5</td>\n",
       "      <td>4.5</td>\n",
       "      <td>4.0</td>\n",
       "      <td>9.40</td>\n",
       "      <td>1</td>\n",
       "    </tr>\n",
       "    <tr>\n",
       "      <th>4</th>\n",
       "      <td>319</td>\n",
       "      <td>106</td>\n",
       "      <td>3</td>\n",
       "      <td>3.5</td>\n",
       "      <td>2.5</td>\n",
       "      <td>8.33</td>\n",
       "      <td>1</td>\n",
       "    </tr>\n",
       "  </tbody>\n",
       "</table>\n",
       "</div>"
      ],
      "text/plain": [
       "   GRE Score  TOEFL Score  University Rating  SOP  LOR   CGPA  Research\n",
       "0        317          103                  2  2.5   2.0  8.15         0\n",
       "1        319          108                  3  3.0   3.5  8.54         1\n",
       "2        322          110                  3  3.5   2.5  8.67         1\n",
       "3        326          113                  5  4.5   4.0  9.40         1\n",
       "4        319          106                  3  3.5   2.5  8.33         1"
      ]
     },
     "execution_count": 190,
     "metadata": {},
     "output_type": "execute_result"
    }
   ],
   "source": [
    "Y_label = df_admission[\"Chance of Admit \"]\n",
    "df_admission = df_admission.iloc[:,1:8]\n",
    "df_admission.head()"
   ]
  },
  {
   "cell_type": "markdown",
   "metadata": {},
   "source": [
    "STANDARDIZATION IS IMPORTANT IN LOGISTIC REGRESSION"
   ]
  },
  {
   "cell_type": "code",
   "execution_count": 191,
   "metadata": {},
   "outputs": [
    {
     "name": "stderr",
     "output_type": "stream",
     "text": [
      "C:\\Users\\USER\\Anaconda3\\lib\\site-packages\\sklearn\\preprocessing\\data.py:625: DataConversionWarning: Data with input dtype int64, float64 were all converted to float64 by StandardScaler.\n",
      "  return self.partial_fit(X, y)\n",
      "C:\\Users\\USER\\Anaconda3\\lib\\site-packages\\sklearn\\base.py:462: DataConversionWarning: Data with input dtype int64, float64 were all converted to float64 by StandardScaler.\n",
      "  return self.fit(X, **fit_params).transform(X)\n"
     ]
    }
   ],
   "source": [
    "from sklearn.preprocessing import StandardScaler\n",
    "df_admission = StandardScaler().fit_transform(df_admission)"
   ]
  },
  {
   "cell_type": "code",
   "execution_count": 192,
   "metadata": {},
   "outputs": [],
   "source": [
    "from sklearn.model_selection import train_test_split\n",
    "X_train,X_test,Y_train,Y_test = train_test_split(df_admission,Y_label)"
   ]
  },
  {
   "cell_type": "markdown",
   "metadata": {},
   "source": [
    "    Training with threshold=0.5"
   ]
  },
  {
   "cell_type": "code",
   "execution_count": 193,
   "metadata": {},
   "outputs": [],
   "source": [
    "theta = LogisticRegressionClassifier(X_train,Y_train,th=0.5,Y_train_prob=True)\n",
    "#training with the dataset"
   ]
  },
  {
   "cell_type": "code",
   "execution_count": 194,
   "metadata": {},
   "outputs": [],
   "source": [
    "Y_pred=predict(theta,X_test,0.5) #predictions\n"
   ]
  },
  {
   "cell_type": "code",
   "execution_count": 195,
   "metadata": {},
   "outputs": [],
   "source": [
    "Y_test_bin = round_off(Y_test,0.5)"
   ]
  },
  {
   "cell_type": "code",
   "execution_count": 196,
   "metadata": {},
   "outputs": [
    {
     "name": "stdout",
     "output_type": "stream",
     "text": [
      "              precision    recall  f1-score   support\n",
      "\n",
      "           0       0.20      1.00      0.33         2\n",
      "           1       1.00      0.93      0.96       111\n",
      "\n",
      "   micro avg       0.93      0.93      0.93       113\n",
      "   macro avg       0.60      0.96      0.65       113\n",
      "weighted avg       0.99      0.93      0.95       113\n",
      "\n"
     ]
    }
   ],
   "source": [
    "from sklearn import metrics\n",
    "from sklearn.metrics import average_precision_score\n",
    "print(metrics.classification_report(Y_pred,Y_test_bin))"
   ]
  },
  {
   "cell_type": "code",
   "execution_count": 197,
   "metadata": {},
   "outputs": [
    {
     "name": "stdout",
     "output_type": "stream",
     "text": [
      "[[  2   0]\n",
      " [  8 103]]\n"
     ]
    }
   ],
   "source": [
    "from sklearn.metrics import confusion_matrix\n",
    "from  sklearn.metrics import accuracy_score\n",
    "print(confusion_matrix(Y_pred,Y_test_bin))"
   ]
  },
  {
   "cell_type": "code",
   "execution_count": 198,
   "metadata": {},
   "outputs": [],
   "source": [
    "#training with sklearn with th=0.5\n",
    "Y_train_bin = round_off(Y_train,0.5)"
   ]
  },
  {
   "cell_type": "code",
   "execution_count": 199,
   "metadata": {},
   "outputs": [
    {
     "name": "stderr",
     "output_type": "stream",
     "text": [
      "C:\\Users\\USER\\Anaconda3\\lib\\site-packages\\sklearn\\linear_model\\logistic.py:433: FutureWarning: Default solver will be changed to 'lbfgs' in 0.22. Specify a solver to silence this warning.\n",
      "  FutureWarning)\n"
     ]
    },
    {
     "data": {
      "text/plain": [
       "LogisticRegression(C=1.0, class_weight=None, dual=False, fit_intercept=True,\n",
       "          intercept_scaling=1, max_iter=100, multi_class='warn',\n",
       "          n_jobs=None, penalty='l2', random_state=None, solver='warn',\n",
       "          tol=0.0001, verbose=0, warm_start=False)"
      ]
     },
     "execution_count": 199,
     "metadata": {},
     "output_type": "execute_result"
    }
   ],
   "source": [
    "from sklearn.linear_model import LogisticRegression\n",
    "model = LogisticRegression()\n",
    "model.fit(X_train,Y_train_bin)"
   ]
  },
  {
   "cell_type": "code",
   "execution_count": 200,
   "metadata": {},
   "outputs": [],
   "source": [
    "pred=model.predict(X_test)"
   ]
  },
  {
   "cell_type": "code",
   "execution_count": 201,
   "metadata": {},
   "outputs": [
    {
     "name": "stdout",
     "output_type": "stream",
     "text": [
      "[[  1   0]\n",
      " [  9 103]]\n"
     ]
    }
   ],
   "source": [
    "print(confusion_matrix(pred,Y_test_bin))"
   ]
  },
  {
   "cell_type": "markdown",
   "metadata": {},
   "source": [
    "    Sklearn and my implementation works same in th=0.5"
   ]
  },
  {
   "cell_type": "markdown",
   "metadata": {},
   "source": [
    "        Training with threshold = 0.7"
   ]
  },
  {
   "cell_type": "code",
   "execution_count": 202,
   "metadata": {},
   "outputs": [
    {
     "name": "stdout",
     "output_type": "stream",
     "text": [
      "              precision    recall  f1-score   support\n",
      "\n",
      "           0       0.85      0.83      0.84        47\n",
      "           1       0.88      0.89      0.89        66\n",
      "\n",
      "   micro avg       0.87      0.87      0.87       113\n",
      "   macro avg       0.86      0.86      0.86       113\n",
      "weighted avg       0.87      0.87      0.87       113\n",
      "\n",
      "avg_precision_score 0.8491472644820948\n",
      "[[39  8]\n",
      " [ 7 59]]\n",
      "sklearn               precision    recall  f1-score   support\n",
      "\n",
      "         0.0       0.85      0.83      0.84        47\n",
      "         1.0       0.88      0.89      0.89        66\n",
      "\n",
      "   micro avg       0.87      0.87      0.87       113\n",
      "   macro avg       0.86      0.86      0.86       113\n",
      "weighted avg       0.87      0.87      0.87       113\n",
      "\n",
      "sklearn: [[39  8]\n",
      " [ 7 59]]\n",
      "avg_precision_score 0.8491472644820948\n"
     ]
    },
    {
     "name": "stderr",
     "output_type": "stream",
     "text": [
      "C:\\Users\\USER\\Anaconda3\\lib\\site-packages\\sklearn\\linear_model\\logistic.py:433: FutureWarning: Default solver will be changed to 'lbfgs' in 0.22. Specify a solver to silence this warning.\n",
      "  FutureWarning)\n"
     ]
    }
   ],
   "source": [
    "theta = LogisticRegressionClassifier(X_train,Y_train,th=0.7,Y_train_prob=True)\n",
    "#training with the dataset\n",
    "\n",
    "Y_pred=predict(theta,X_test,0.5) #predictions\n",
    "\n",
    "\n",
    "Y_test_bin = round_off(Y_test,0.7)\n",
    "\n",
    "from sklearn import metrics\n",
    "print(metrics.classification_report(Y_pred,Y_test_bin))\n",
    "print(\"avg_precision_score\",average_precision_score(Y_pred,Y_test_bin))\n",
    "from sklearn.metrics import confusion_matrix\n",
    "print(confusion_matrix(Y_pred,Y_test_bin))\n",
    "\n",
    "#training with sklearn with th=0.5\n",
    "Y_train_bin = round_off(Y_train,0.7)\n",
    "\n",
    "from sklearn.linear_model import LogisticRegression\n",
    "model = LogisticRegression()\n",
    "model.fit(X_train,Y_train_bin)\n",
    "\n",
    "pred=model.predict(X_test)\n",
    "print(\"sklearn\",metrics.classification_report(pred,Y_test_bin))\n",
    "print(\"sklearn:\",confusion_matrix(pred,Y_test_bin))\n",
    "print(\"avg_precision_score\",average_precision_score(pred,Y_test_bin))\n",
    "\n"
   ]
  },
  {
   "cell_type": "markdown",
   "metadata": {},
   "source": [
    "Same performance as sklearn"
   ]
  },
  {
   "cell_type": "markdown",
   "metadata": {},
   "source": [
    "    KNN with threshold 0.5"
   ]
  },
  {
   "cell_type": "markdown",
   "metadata": {},
   "source": [
    "#### Part-2"
   ]
  },
  {
   "cell_type": "code",
   "execution_count": 203,
   "metadata": {},
   "outputs": [
    {
     "name": "stdout",
     "output_type": "stream",
     "text": [
      "knn metrics: \n",
      "              precision    recall  f1-score   support\n",
      "\n",
      "         0.0       0.78      0.86      0.82        42\n",
      "         1.0       0.91      0.86      0.88        71\n",
      "\n",
      "   micro avg       0.86      0.86      0.86       113\n",
      "   macro avg       0.85      0.86      0.85       113\n",
      "weighted avg       0.86      0.86      0.86       113\n",
      "\n",
      "[[36  6]\n",
      " [10 61]]\n"
     ]
    }
   ],
   "source": [
    "Y_train_bin = round_off(Y_train,0.7)\n",
    "Y_test_bin = round_off(Y_test,0.7)\n",
    "from sklearn.neighbors import KNeighborsClassifier\n",
    "knn = KNeighborsClassifier(n_neighbors = 5)\n",
    "knn.fit(X_train,Y_train_bin)\n",
    "knn_pred = knn.predict(X_test)\n",
    "print(\"knn metrics: \")\n",
    "print(metrics.classification_report(knn_pred,Y_test_bin))\n",
    "print(confusion_matrix(knn_pred,Y_test_bin))"
   ]
  },
  {
   "cell_type": "markdown",
   "metadata": {},
   "source": [
    "Logistic performs better than knn in this dataset"
   ]
  },
  {
   "cell_type": "markdown",
   "metadata": {},
   "source": [
    "#### Part-3"
   ]
  },
  {
   "cell_type": "code",
   "execution_count": 204,
   "metadata": {},
   "outputs": [
    {
     "data": {
      "image/png": "[encoded data removed]",
      "text/plain": [
       "<Figure size 1080x504 with 1 Axes>"
      ]
     },
     "metadata": {},
     "output_type": "display_data"
    }
   ],
   "source": [
    "from sklearn.metrics import average_precision_score\n",
    "thresholds =np.arange(0.1,1,0.1)\n",
    "average_precision_recall = []\n",
    "for i in range(len(thresholds)):\n",
    "    th=np.around(thresholds[i],decimals=1)\n",
    "    Y_train_bin = round_off(Y_train,th)\n",
    "    Y_test_bin = round_off(Y_test,th)\n",
    "    theta = LogisticRegressionClassifier(X_train,Y_train_bin,th=th,Y_train_prob=True)\n",
    "    prediction = predict(theta,X_test,0.5)\n",
    "    avg_precision_score = average_precision_score(prediction,Y_test_bin)\n",
    "    average_precision_recall.append(avg_precision_score)\n",
    "plt.xlabel(\"THRESHOLD\")\n",
    "plt.ylabel(\"AVERAGE PRECISION SCORE\")\n",
    "plt.plot(thresholds,average_precision_recall)\n",
    "plt.scatter(thresholds,average_precision_recall)\n",
    "plt.show()\n"
   ]
  },
  {
   "cell_type": "markdown",
   "metadata": {},
   "source": [
    "### Question 3"
   ]
  },
  {
   "cell_type": "code",
   "execution_count": 205,
   "metadata": {},
   "outputs": [
    {
     "data": {
      "text/html": [
       "<div>\n",
       "<style scoped>\n",
       "    .dataframe tbody tr th:only-of-type {\n",
       "        vertical-align: middle;\n",
       "    }\n",
       "\n",
       "    .dataframe tbody tr th {\n",
       "        vertical-align: top;\n",
       "    }\n",
       "\n",
       "    .dataframe thead th {\n",
       "        text-align: right;\n",
       "    }\n",
       "</style>\n",
       "<table border=\"1\" class=\"dataframe\">\n",
       "  <thead>\n",
       "    <tr style=\"text-align: right;\">\n",
       "      <th></th>\n",
       "      <th>0</th>\n",
       "      <th>1</th>\n",
       "      <th>2</th>\n",
       "      <th>3</th>\n",
       "      <th>4</th>\n",
       "      <th>5</th>\n",
       "      <th>6</th>\n",
       "      <th>7</th>\n",
       "      <th>8</th>\n",
       "      <th>9</th>\n",
       "      <th>10</th>\n",
       "      <th>11</th>\n",
       "    </tr>\n",
       "  </thead>\n",
       "  <tbody>\n",
       "    <tr>\n",
       "      <th>0</th>\n",
       "      <td>9.2</td>\n",
       "      <td>0.25</td>\n",
       "      <td>0.34</td>\n",
       "      <td>1.20</td>\n",
       "      <td>0.026</td>\n",
       "      <td>31.0</td>\n",
       "      <td>93.0</td>\n",
       "      <td>0.99160</td>\n",
       "      <td>2.93</td>\n",
       "      <td>0.37</td>\n",
       "      <td>11.3</td>\n",
       "      <td>7</td>\n",
       "    </tr>\n",
       "    <tr>\n",
       "      <th>1</th>\n",
       "      <td>6.6</td>\n",
       "      <td>0.20</td>\n",
       "      <td>0.27</td>\n",
       "      <td>10.90</td>\n",
       "      <td>0.038</td>\n",
       "      <td>29.0</td>\n",
       "      <td>130.0</td>\n",
       "      <td>0.99496</td>\n",
       "      <td>3.11</td>\n",
       "      <td>0.44</td>\n",
       "      <td>10.5</td>\n",
       "      <td>7</td>\n",
       "    </tr>\n",
       "    <tr>\n",
       "      <th>2</th>\n",
       "      <td>5.7</td>\n",
       "      <td>0.22</td>\n",
       "      <td>0.22</td>\n",
       "      <td>16.65</td>\n",
       "      <td>0.044</td>\n",
       "      <td>39.0</td>\n",
       "      <td>110.0</td>\n",
       "      <td>0.99855</td>\n",
       "      <td>3.24</td>\n",
       "      <td>0.48</td>\n",
       "      <td>9.0</td>\n",
       "      <td>6</td>\n",
       "    </tr>\n",
       "    <tr>\n",
       "      <th>3</th>\n",
       "      <td>7.2</td>\n",
       "      <td>0.23</td>\n",
       "      <td>0.39</td>\n",
       "      <td>14.20</td>\n",
       "      <td>0.058</td>\n",
       "      <td>49.0</td>\n",
       "      <td>192.0</td>\n",
       "      <td>0.99790</td>\n",
       "      <td>2.98</td>\n",
       "      <td>0.48</td>\n",
       "      <td>9.0</td>\n",
       "      <td>7</td>\n",
       "    </tr>\n",
       "    <tr>\n",
       "      <th>4</th>\n",
       "      <td>7.6</td>\n",
       "      <td>0.35</td>\n",
       "      <td>0.47</td>\n",
       "      <td>13.30</td>\n",
       "      <td>0.037</td>\n",
       "      <td>42.0</td>\n",
       "      <td>116.0</td>\n",
       "      <td>0.99822</td>\n",
       "      <td>3.04</td>\n",
       "      <td>0.50</td>\n",
       "      <td>9.2</td>\n",
       "      <td>5</td>\n",
       "    </tr>\n",
       "  </tbody>\n",
       "</table>\n",
       "</div>"
      ],
      "text/plain": [
       "    0     1     2      3      4     5      6        7     8     9     10  11\n",
       "0  9.2  0.25  0.34   1.20  0.026  31.0   93.0  0.99160  2.93  0.37  11.3   7\n",
       "1  6.6  0.20  0.27  10.90  0.038  29.0  130.0  0.99496  3.11  0.44  10.5   7\n",
       "2  5.7  0.22  0.22  16.65  0.044  39.0  110.0  0.99855  3.24  0.48   9.0   6\n",
       "3  7.2  0.23  0.39  14.20  0.058  49.0  192.0  0.99790  2.98  0.48   9.0   7\n",
       "4  7.6  0.35  0.47  13.30  0.037  42.0  116.0  0.99822  3.04  0.50   9.2   5"
      ]
     },
     "execution_count": 205,
     "metadata": {},
     "output_type": "execute_result"
    }
   ],
   "source": [
    "#loading the dataset\n",
    "df_wine = pd.read_csv(\"wine-quality/data.csv\",sep=\";\",header=None)\n",
    "df_wine.head()"
   ]
  },
  {
   "cell_type": "code",
   "execution_count": 206,
   "metadata": {},
   "outputs": [
    {
     "data": {
      "text/plain": [
       "6    1987\n",
       "5    1311\n",
       "7     785\n",
       "8     153\n",
       "4     150\n",
       "3      17\n",
       "9       5\n",
       "Name: 11, dtype: int64"
      ]
     },
     "execution_count": 206,
     "metadata": {},
     "output_type": "execute_result"
    }
   ],
   "source": [
    "df_wine[11].value_counts()"
   ]
  },
  {
   "cell_type": "markdown",
   "metadata": {},
   "source": [
    "There are 7 classes in the dataset. The Logistic regression needs to classify the data into 7 classes"
   ]
  },
  {
   "cell_type": "markdown",
   "metadata": {},
   "source": [
    "#### one vs all"
   ]
  },
  {
   "cell_type": "code",
   "execution_count": 232,
   "metadata": {
    "scrolled": true
   },
   "outputs": [
    {
     "name": "stdout",
     "output_type": "stream",
     "text": [
      "              precision    recall  f1-score   support\n",
      "\n",
      "           3       0.00      0.00      0.00         0\n",
      "           4       0.00      0.00      0.00         0\n",
      "           5       0.54      0.55      0.55       260\n",
      "           6       0.76      0.51      0.61       597\n",
      "           7       0.13      0.80      0.23        25\n",
      "           8       0.00      0.00      0.00         0\n",
      "\n",
      "   micro avg       0.53      0.53      0.53       882\n",
      "   macro avg       0.24      0.31      0.23       882\n",
      "weighted avg       0.68      0.53      0.58       882\n",
      "\n",
      "accuracy_score: 0.5294784580498866\n",
      "confusion matrix:\n",
      " [[  0   0   0   0   0   0]\n",
      " [  0   0   0   0   0   0]\n",
      " [  1  17 144  94   4   0]\n",
      " [  2  13 120 303 127  32]\n",
      " [  0   0   1   1  20   3]\n",
      " [  0   0   0   0   0   0]]\n"
     ]
    },
    {
     "name": "stderr",
     "output_type": "stream",
     "text": [
      "C:\\Users\\USER\\Anaconda3\\lib\\site-packages\\sklearn\\metrics\\classification.py:1145: UndefinedMetricWarning: Recall and F-score are ill-defined and being set to 0.0 in labels with no true samples.\n",
      "  'recall', 'true', average, warn_for)\n"
     ]
    }
   ],
   "source": [
    "def accuracy(Y_pred,Y_test):\n",
    "    num=0\n",
    "    den=0\n",
    "    for i in range(len(Y_test)):\n",
    "        if(Y_test[i]==Y_pred[i]):\n",
    "            num+=1\n",
    "            den+=1\n",
    "        else:\n",
    "            den+=1\n",
    "    return float(num/den)\n",
    "Y_label = df_wine[11]\n",
    "df_wine_X = df_wine.iloc[:,:-1]\n",
    "df_wine_X = StandardScaler().fit_transform(df_wine_X)\n",
    "X_train,X_test,Y_train,Y_test = train_test_split(df_wine_X,Y_label,test_size = 0.2)\n",
    "\n",
    "probabilities = np.zeros([10,X_test.shape[0]])\n",
    "for i in (Y_train.unique()):\n",
    "    Y_train_new = Y_train.where(Y_train==i,0)\n",
    "    Y_train_new = Y_train_new.where(Y_train_new==0,1)\n",
    "    theta = LogisticRegressionClassifier(X_train,Y_train_new)\n",
    "    predictions = predict_proba(theta,X_test)\n",
    "    probabilities[i]=predictions\n",
    "#     model = LogisticRegression()\n",
    "#     model.fit(X_train,Y_train)\n",
    "#     predictions = model.predict(X_test)\n",
    "#     print(\"prediction for class label:\",i)\n",
    "#     print(metrics.classification_report(predictions,Y_test))\n",
    "#     print(\"accuracy_score:\",accuracy_score(predictions,Y_test))\n",
    "#     print(\"confusion matrix:\\n\",confusion_matrix(predictions,Y_test))\n",
    "#     print(\"---------------------------------------------------\")\n",
    "class_label_pred=[]\n",
    "for i in range(probabilities.shape[1]):\n",
    "    probs = probabilities[:,i]\n",
    "    class_label_pred.append(np.argmax(probs))\n",
    "print(metrics.classification_report(class_label_pred,list(Y_test)))\n",
    "print(\"accuracy_score:\",accuracy(class_label_pred,list(Y_test)))\n",
    "print(\"confusion matrix:\\n\",confusion_matrix(class_label_pred,list(Y_test)))\n",
    "    \n",
    "    \n",
    "               \n",
    "    \n",
    "    "
   ]
  },
  {
   "cell_type": "markdown",
   "metadata": {},
   "source": [
    "accuracy is around 52 percent, which is not good as logistic regression don't perform well with imbalanced dataset, and the dataset is highly imbalanced"
   ]
  },
  {
   "cell_type": "markdown",
   "metadata": {},
   "source": [
    "### one vs one"
   ]
  },
  {
   "cell_type": "code",
   "execution_count": 310,
   "metadata": {},
   "outputs": [
    {
     "name": "stdout",
     "output_type": "stream",
     "text": [
      "<class 'numpy.ndarray'>\n",
      "<class 'pandas.core.series.Series'>\n",
      "              precision    recall  f1-score   support\n",
      "\n",
      "           3       0.00      0.00      0.00         2\n",
      "           4       0.00      0.00      0.00         0\n",
      "           5       0.01      0.15      0.01        13\n",
      "           6       0.99      0.47      0.63      1303\n",
      "           7       0.00      0.00      0.00         4\n",
      "           8       0.00      0.00      0.00         1\n",
      "           9       0.00      0.00      0.00         0\n",
      "\n",
      "   micro avg       0.46      0.46      0.46      1323\n",
      "   macro avg       0.14      0.09      0.09      1323\n",
      "weighted avg       0.97      0.46      0.62      1323\n",
      "\n",
      "accuracy_score: 0.4603174603174603\n",
      "confusion matrix:\n",
      " [[  0   0   0   2   0   0   0]\n",
      " [  0   0   0   0   0   0   0]\n",
      " [  0   5   2   5   1   0   0]\n",
      " [  6  45 362 607 234  47   2]\n",
      " [  0   1   2   1   0   0   0]\n",
      " [  0   0   0   1   0   0   0]\n",
      " [  0   0   0   0   0   0   0]]\n"
     ]
    },
    {
     "name": "stderr",
     "output_type": "stream",
     "text": [
      "C:\\Users\\USER\\Anaconda3\\lib\\site-packages\\sklearn\\metrics\\classification.py:1145: UndefinedMetricWarning: Recall and F-score are ill-defined and being set to 0.0 in labels with no true samples.\n",
      "  'recall', 'true', average, warn_for)\n"
     ]
    }
   ],
   "source": [
    "import math\n",
    "Y_label = df_wine[11]\n",
    "df_wine_X = df_wine.iloc[:,:-1]\n",
    "df_wine_X = StandardScaler().fit_transform(df_wine_X)\n",
    "X_train,X_test,Y_train,Y_test = train_test_split(df_wine_X,Y_label,test_size = 0.3)\n",
    "print(type(X_train))\n",
    "print(type(Y_train))\n",
    "unique_labels = Y_train.unique()\n",
    "f = math.factorial\n",
    "rows = f(len(unique_labels)) / f(2) / f(len(unique_labels)-2)\n",
    "pair_predictions = np.zeros([int(rows),X_test.shape[0]])\n",
    "index=0\n",
    "for i in range(len(unique_labels)):\n",
    "    for j in range(i+1,len(unique_labels)):\n",
    "        class_1 = unique_labels[i]\n",
    "        class_0 = unique_labels[j]\n",
    "        X_train_pd = pd.DataFrame(X_train)\n",
    "        X_train_pd=X_train_pd.assign(output=Y_train)\n",
    "        X_train_pd = X_train_pd.loc[X_train_pd[\"output\"].isin([class_1,class_0])]\n",
    "        Y_train_new = X_train_pd.iloc[:,-1]\n",
    "        X_train_pd = X_train_pd.iloc[:,:-1]\n",
    "        Y_train_new = Y_train_new.where(Y_train_new==class_1,0)\n",
    "        Y_train_new = Y_train_new.where(Y_train_new!=class_1,1)\n",
    "        theta = LogisticRegressionClassifier(X_train_pd,Y_train_new)\n",
    "        predictions = predict(theta,X_test,0.5)\n",
    "        predictions = np.where(predictions==1,class_1,class_0)\n",
    "        pair_predictions[index]=predictions\n",
    "        index+=1\n",
    "final_pred =[]\n",
    "for i in range(pair_predictions.shape[1]):\n",
    "    column = pair_predictions[:,i]\n",
    "    counts = np.bincount(column.astype(int))\n",
    "    final_pred.append(np.argmax(counts))\n",
    "print(metrics.classification_report(final_pred,list(Y_test)))\n",
    "print(\"accuracy_score:\",accuracy(final_pred,list(Y_test)))\n",
    "print(\"confusion matrix:\\n\",confusion_matrix(final_pred,list(Y_test)))\n",
    "            "
   ]
  },
  {
   "cell_type": "code",
   "execution_count": 277,
   "metadata": {},
   "outputs": [
    {
     "data": {
      "text/plain": [
       "array([2, 5])"
      ]
     },
     "execution_count": 277,
     "metadata": {},
     "output_type": "execute_result"
    }
   ],
   "source": [
    "a=np.array([[1,2,3],[4,5,6]])\n",
    "# a =pd.DataFrame(a)\n",
    "# a=a.assign(b=np.array([8,9]))\n",
    "# a.loc[a[\"b\"].isin([8,9])]\n",
    "a[:,1]"
   ]
  },
  {
   "cell_type": "code",
   "execution_count": 272,
   "metadata": {},
   "outputs": [
    {
     "data": {
      "text/plain": [
       "array([1., 2., 3., 4., 5., 6.])"
      ]
     },
     "execution_count": 272,
     "metadata": {},
     "output_type": "execute_result"
    }
   ],
   "source": [
    "a=np.array([])\n",
    "a=np.append(a,[1,2,3],axis=0)\n",
    "a=np.append(a,[4,5,6],axis=0)\n",
    "a"
   ]
  },
  {
   "cell_type": "code",
   "execution_count": 305,
   "metadata": {},
   "outputs": [
    {
     "data": {
      "text/plain": [
       "array([6, 6, 5, 6, 6])"
      ]
     },
     "execution_count": 305,
     "metadata": {},
     "output_type": "execute_result"
    }
   ],
   "source": [
    "a=np.array([1,2,3,4,5])\n",
    "b=np.where(a==3,5,6)\n",
    "b"
   ]
  },
  {
   "cell_type": "code",
   "execution_count": 297,
   "metadata": {},
   "outputs": [
    {
     "name": "stdout",
     "output_type": "stream",
     "text": [
      "[1. 2. 3. 1. 2. 1. 1. 1. 3. 2. 2. 1. 2. 2. 2. 2.]\n"
     ]
    },
    {
     "ename": "TypeError",
     "evalue": "Cannot cast array data from dtype('float64') to dtype('int64') according to the rule 'safe'",
     "output_type": "error",
     "traceback": [
      "\u001b[1;31m---------------------------------------------------------------------------\u001b[0m",
      "\u001b[1;31mTypeError\u001b[0m                                 Traceback (most recent call last)",
      "\u001b[1;32m<ipython-input-297-e30091dcdbf0>\u001b[0m in \u001b[0;36m<module>\u001b[1;34m()\u001b[0m\n\u001b[0;32m      1\u001b[0m \u001b[0ma\u001b[0m \u001b[1;33m=\u001b[0m \u001b[0mnp\u001b[0m\u001b[1;33m.\u001b[0m\u001b[0marray\u001b[0m\u001b[1;33m(\u001b[0m\u001b[1;33m[\u001b[0m\u001b[1;36m1\u001b[0m\u001b[1;33m,\u001b[0m\u001b[1;36m2.0\u001b[0m\u001b[1;33m,\u001b[0m\u001b[1;36m3\u001b[0m\u001b[1;33m,\u001b[0m\u001b[1;36m1\u001b[0m\u001b[1;33m,\u001b[0m\u001b[1;36m2\u001b[0m\u001b[1;33m,\u001b[0m\u001b[1;36m1\u001b[0m\u001b[1;33m,\u001b[0m\u001b[1;36m1\u001b[0m\u001b[1;33m,\u001b[0m\u001b[1;36m1\u001b[0m\u001b[1;33m,\u001b[0m\u001b[1;36m3\u001b[0m\u001b[1;33m,\u001b[0m\u001b[1;36m2\u001b[0m\u001b[1;33m,\u001b[0m\u001b[1;36m2\u001b[0m\u001b[1;33m,\u001b[0m\u001b[1;36m1\u001b[0m\u001b[1;33m,\u001b[0m\u001b[1;36m2\u001b[0m\u001b[1;33m,\u001b[0m\u001b[1;36m2\u001b[0m\u001b[1;33m,\u001b[0m\u001b[1;36m2\u001b[0m\u001b[1;33m,\u001b[0m\u001b[1;36m2\u001b[0m\u001b[1;33m]\u001b[0m\u001b[1;33m)\u001b[0m\u001b[1;33m\u001b[0m\u001b[0m\n\u001b[0;32m      2\u001b[0m \u001b[0mprint\u001b[0m\u001b[1;33m(\u001b[0m\u001b[0ma\u001b[0m\u001b[1;33m)\u001b[0m\u001b[1;33m\u001b[0m\u001b[0m\n\u001b[1;32m----> 3\u001b[1;33m \u001b[0mcounts\u001b[0m \u001b[1;33m=\u001b[0m \u001b[0mnp\u001b[0m\u001b[1;33m.\u001b[0m\u001b[0mbincount\u001b[0m\u001b[1;33m(\u001b[0m\u001b[0ma\u001b[0m\u001b[1;33m)\u001b[0m\u001b[1;33m\u001b[0m\u001b[0m\n\u001b[0m\u001b[0;32m      4\u001b[0m \u001b[0mprint\u001b[0m \u001b[1;33m(\u001b[0m\u001b[0mnp\u001b[0m\u001b[1;33m.\u001b[0m\u001b[0margmax\u001b[0m\u001b[1;33m(\u001b[0m\u001b[0mcounts\u001b[0m\u001b[1;33m)\u001b[0m\u001b[1;33m)\u001b[0m\u001b[1;33m\u001b[0m\u001b[0m\n\u001b[0;32m      5\u001b[0m \u001b[0mcounts\u001b[0m\u001b[1;33m\u001b[0m\u001b[0m\n",
      "\u001b[1;31mTypeError\u001b[0m: Cannot cast array data from dtype('float64') to dtype('int64') according to the rule 'safe'"
     ]
    }
   ],
   "source": [
    "a = np.array([1,2.0,3,1,2,1,1,1,3,2,2,1,2,2,2,2])\n",
    "print(a)\n",
    "counts = np.bincount(a)\n",
    "print (np.argmax(counts))\n",
    "counts"
   ]
  },
  {
   "cell_type": "code",
   "execution_count": null,
   "metadata": {},
   "outputs": [],
   "source": []
  }
 ],
 "metadata": {
  "kernelspec": {
   "display_name": "Python 3",
   "language": "python",
   "name": "python3"
  },
  "language_info": {
   "codemirror_mode": {
    "name": "ipython",
    "version": 3
   },
   "file_extension": ".py",
   "mimetype": "text/x-python",
   "name": "python",
   "nbconvert_exporter": "python",
   "pygments_lexer": "ipython3",
   "version": "3.6.5"
  }
 },
 "nbformat": 4,
 "nbformat_minor": 2
}
